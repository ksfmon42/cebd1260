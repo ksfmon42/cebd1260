{
 "cells": [
  {
   "cell_type": "markdown",
   "metadata": {},
   "source": [
    "## Exploration 4"
   ]
  },
  {
   "cell_type": "markdown",
   "metadata": {},
   "source": [
    "### Goals of this exploration\n",
    "* Based on user specified criteria of brands and/or product names, filter the rows and display stats of the filtered rows"
   ]
  },
  {
   "cell_type": "code",
   "execution_count": 15,
   "metadata": {},
   "outputs": [],
   "source": [
    "# This is to prepare environment and import libraries\n",
    "%matplotlib inline\n",
    "import numpy as np\n",
    "import pandas as pd\n",
    "from pylab import *\n",
    "import matplotlib\n",
    "import matplotlib.pyplot as plt\n",
    "import os\n",
    "import nltk\n",
    "from nltk.tokenize import sent_tokenize, word_tokenize\n",
    "from nltk.corpus import stopwords\n",
    "from nltk.tokenize import PunktSentenceTokenizer\n",
    "import random\n",
    "import pickle"
   ]
  },
  {
   "cell_type": "code",
   "execution_count": 16,
   "metadata": {},
   "outputs": [],
   "source": [
    "# Load saved tagged reviews, prepared in \"Exploration 3\"\n",
    "tagged_review_file = open('taggedDigitSoftwareReviews', \"rb\")\n",
    "tagged_reviews = pickle.load(tagged_review_file)\n",
    "tagged_review_file.close()"
   ]
  },
  {
   "cell_type": "code",
   "execution_count": 17,
   "metadata": {},
   "outputs": [
    {
     "data": {
      "text/html": [
       "<div>\n",
       "<style scoped>\n",
       "    .dataframe tbody tr th:only-of-type {\n",
       "        vertical-align: middle;\n",
       "    }\n",
       "\n",
       "    .dataframe tbody tr th {\n",
       "        vertical-align: top;\n",
       "    }\n",
       "\n",
       "    .dataframe thead th {\n",
       "        text-align: right;\n",
       "    }\n",
       "</style>\n",
       "<table border=\"1\" class=\"dataframe\">\n",
       "  <thead>\n",
       "    <tr style=\"text-align: right;\">\n",
       "      <th></th>\n",
       "      <th>product_title</th>\n",
       "      <th>tags</th>\n",
       "      <th>review_date</th>\n",
       "    </tr>\n",
       "  </thead>\n",
       "  <tbody>\n",
       "    <tr>\n",
       "      <th>count</th>\n",
       "      <td>101836</td>\n",
       "      <td>101836</td>\n",
       "      <td>101831</td>\n",
       "    </tr>\n",
       "    <tr>\n",
       "      <th>unique</th>\n",
       "      <td>2639</td>\n",
       "      <td>150</td>\n",
       "      <td>2198</td>\n",
       "    </tr>\n",
       "    <tr>\n",
       "      <th>top</th>\n",
       "      <td>Avast Free Antivirus 2015 [Download]</td>\n",
       "      <td>turbotax</td>\n",
       "      <td>2015-03-04</td>\n",
       "    </tr>\n",
       "    <tr>\n",
       "      <th>freq</th>\n",
       "      <td>9462</td>\n",
       "      <td>17736</td>\n",
       "      <td>445</td>\n",
       "    </tr>\n",
       "  </tbody>\n",
       "</table>\n",
       "</div>"
      ],
      "text/plain": [
       "                               product_title      tags review_date\n",
       "count                                 101836    101836      101831\n",
       "unique                                  2639       150        2198\n",
       "top     Avast Free Antivirus 2015 [Download]  turbotax  2015-03-04\n",
       "freq                                    9462     17736         445"
      ]
     },
     "execution_count": 17,
     "metadata": {},
     "output_type": "execute_result"
    }
   ],
   "source": [
    "tagged_reviews[['product_title','tags','review_date']].describe()"
   ]
  },
  {
   "cell_type": "code",
   "execution_count": 50,
   "metadata": {},
   "outputs": [],
   "source": [
    "user_key_words = \"Intuit\"\n",
    "#user_key_words = \"microsoft\"\n",
    "user_key_words = user_key_words.lower()"
   ]
  },
  {
   "cell_type": "code",
   "execution_count": 52,
   "metadata": {},
   "outputs": [],
   "source": [
    "#tagged_reviews[['product_title','tags']]\n",
    "#tagged_reviews[tagged_reviews.review_headline == \"Five Stars\"]\n",
    "target = tagged_reviews[tagged_reviews.tags.str.match(user_key_words)]"
   ]
  },
  {
   "cell_type": "code",
   "execution_count": 53,
   "metadata": {},
   "outputs": [
    {
     "data": {
      "text/plain": [
       "count    3062.000000\n",
       "mean        2.991182\n",
       "std         1.641583\n",
       "min         1.000000\n",
       "25%         1.000000\n",
       "50%         3.000000\n",
       "75%         5.000000\n",
       "max         5.000000\n",
       "Name: star_rating, dtype: float64"
      ]
     },
     "execution_count": 53,
     "metadata": {},
     "output_type": "execute_result"
    }
   ],
   "source": [
    "target.star_rating.describe()"
   ]
  },
  {
   "cell_type": "code",
   "execution_count": 54,
   "metadata": {},
   "outputs": [
    {
     "data": {
      "text/html": [
       "<div>\n",
       "<style scoped>\n",
       "    .dataframe tbody tr th:only-of-type {\n",
       "        vertical-align: middle;\n",
       "    }\n",
       "\n",
       "    .dataframe tbody tr th {\n",
       "        vertical-align: top;\n",
       "    }\n",
       "\n",
       "    .dataframe thead th {\n",
       "        text-align: right;\n",
       "    }\n",
       "</style>\n",
       "<table border=\"1\" class=\"dataframe\">\n",
       "  <thead>\n",
       "    <tr style=\"text-align: right;\">\n",
       "      <th></th>\n",
       "      <th>customer_id</th>\n",
       "      <th>star_rating</th>\n",
       "      <th>length</th>\n",
       "    </tr>\n",
       "  </thead>\n",
       "  <tbody>\n",
       "    <tr>\n",
       "      <th>count</th>\n",
       "      <td>3.062000e+03</td>\n",
       "      <td>3062.000000</td>\n",
       "      <td>3062.000000</td>\n",
       "    </tr>\n",
       "    <tr>\n",
       "      <th>mean</th>\n",
       "      <td>3.236466e+07</td>\n",
       "      <td>2.991182</td>\n",
       "      <td>513.705095</td>\n",
       "    </tr>\n",
       "    <tr>\n",
       "      <th>std</th>\n",
       "      <td>1.602156e+07</td>\n",
       "      <td>1.641583</td>\n",
       "      <td>817.711804</td>\n",
       "    </tr>\n",
       "    <tr>\n",
       "      <th>min</th>\n",
       "      <td>5.251000e+04</td>\n",
       "      <td>1.000000</td>\n",
       "      <td>1.000000</td>\n",
       "    </tr>\n",
       "    <tr>\n",
       "      <th>25%</th>\n",
       "      <td>1.714659e+07</td>\n",
       "      <td>1.000000</td>\n",
       "      <td>135.000000</td>\n",
       "    </tr>\n",
       "    <tr>\n",
       "      <th>50%</th>\n",
       "      <td>3.443578e+07</td>\n",
       "      <td>3.000000</td>\n",
       "      <td>314.000000</td>\n",
       "    </tr>\n",
       "    <tr>\n",
       "      <th>75%</th>\n",
       "      <td>4.841132e+07</td>\n",
       "      <td>5.000000</td>\n",
       "      <td>644.500000</td>\n",
       "    </tr>\n",
       "    <tr>\n",
       "      <th>max</th>\n",
       "      <td>5.309419e+07</td>\n",
       "      <td>5.000000</td>\n",
       "      <td>20439.000000</td>\n",
       "    </tr>\n",
       "  </tbody>\n",
       "</table>\n",
       "</div>"
      ],
      "text/plain": [
       "        customer_id  star_rating        length\n",
       "count  3.062000e+03  3062.000000   3062.000000\n",
       "mean   3.236466e+07     2.991182    513.705095\n",
       "std    1.602156e+07     1.641583    817.711804\n",
       "min    5.251000e+04     1.000000      1.000000\n",
       "25%    1.714659e+07     1.000000    135.000000\n",
       "50%    3.443578e+07     3.000000    314.000000\n",
       "75%    4.841132e+07     5.000000    644.500000\n",
       "max    5.309419e+07     5.000000  20439.000000"
      ]
     },
     "execution_count": 54,
     "metadata": {},
     "output_type": "execute_result"
    }
   ],
   "source": [
    "target.describe()"
   ]
  },
  {
   "cell_type": "code",
   "execution_count": 55,
   "metadata": {},
   "outputs": [
    {
     "data": {
      "text/html": [
       "<div>\n",
       "<style scoped>\n",
       "    .dataframe tbody tr th:only-of-type {\n",
       "        vertical-align: middle;\n",
       "    }\n",
       "\n",
       "    .dataframe tbody tr th {\n",
       "        vertical-align: top;\n",
       "    }\n",
       "\n",
       "    .dataframe thead th {\n",
       "        text-align: right;\n",
       "    }\n",
       "</style>\n",
       "<table border=\"1\" class=\"dataframe\">\n",
       "  <thead>\n",
       "    <tr style=\"text-align: right;\">\n",
       "      <th></th>\n",
       "      <th>customer_id</th>\n",
       "      <th>review_id</th>\n",
       "      <th>product_id</th>\n",
       "      <th>product_title</th>\n",
       "      <th>product_category</th>\n",
       "      <th>star_rating</th>\n",
       "      <th>review_headline</th>\n",
       "      <th>review_body</th>\n",
       "      <th>review_date</th>\n",
       "      <th>sentiment</th>\n",
       "      <th>tags</th>\n",
       "      <th>length</th>\n",
       "    </tr>\n",
       "  </thead>\n",
       "  <tbody>\n",
       "    <tr>\n",
       "      <th>41090</th>\n",
       "      <td>50750054</td>\n",
       "      <td>R24LLSBSBPJ8AY</td>\n",
       "      <td>B00KCXNBPG</td>\n",
       "      <td>Paint Studio Pro &amp; Ex</td>\n",
       "      <td>Digital_Software</td>\n",
       "      <td>5</td>\n",
       "      <td>My go-to software for professional illustratio...</td>\n",
       "      <td>I have lots of software I use for illustration...</td>\n",
       "      <td>2014-11-07</td>\n",
       "      <td>Positive</td>\n",
       "      <td>intuit</td>\n",
       "      <td>17514</td>\n",
       "    </tr>\n",
       "    <tr>\n",
       "      <th>41131</th>\n",
       "      <td>50750054</td>\n",
       "      <td>R1434M2GEJLB7E</td>\n",
       "      <td>B00KC76ATG</td>\n",
       "      <td>Paint Studio Pro &amp; Ex</td>\n",
       "      <td>Digital_Software</td>\n",
       "      <td>5</td>\n",
       "      <td>My go-to software for professional illustratio...</td>\n",
       "      <td>I have lots of software I use for illustration...</td>\n",
       "      <td>2014-11-07</td>\n",
       "      <td>Positive</td>\n",
       "      <td>intuit</td>\n",
       "      <td>17898</td>\n",
       "    </tr>\n",
       "    <tr>\n",
       "      <th>45450</th>\n",
       "      <td>52978391</td>\n",
       "      <td>RB8PUB93R2QVO</td>\n",
       "      <td>B00M76N6MO</td>\n",
       "      <td>Intuit Quicken for Mac 2015</td>\n",
       "      <td>Digital_Software</td>\n",
       "      <td>1</td>\n",
       "      <td>Beyond a joke: incompatible, feature-poor Quic...</td>\n",
       "      <td>Eight long years after its last real update of...</td>\n",
       "      <td>2014-09-09</td>\n",
       "      <td>Negative</td>\n",
       "      <td>intuit|quicken</td>\n",
       "      <td>20439</td>\n",
       "    </tr>\n",
       "  </tbody>\n",
       "</table>\n",
       "</div>"
      ],
      "text/plain": [
       "       customer_id       review_id  product_id                product_title  \\\n",
       "41090     50750054  R24LLSBSBPJ8AY  B00KCXNBPG        Paint Studio Pro & Ex   \n",
       "41131     50750054  R1434M2GEJLB7E  B00KC76ATG        Paint Studio Pro & Ex   \n",
       "45450     52978391   RB8PUB93R2QVO  B00M76N6MO  Intuit Quicken for Mac 2015   \n",
       "\n",
       "       product_category  star_rating  \\\n",
       "41090  Digital_Software            5   \n",
       "41131  Digital_Software            5   \n",
       "45450  Digital_Software            1   \n",
       "\n",
       "                                         review_headline  \\\n",
       "41090  My go-to software for professional illustratio...   \n",
       "41131  My go-to software for professional illustratio...   \n",
       "45450  Beyond a joke: incompatible, feature-poor Quic...   \n",
       "\n",
       "                                             review_body review_date  \\\n",
       "41090  I have lots of software I use for illustration...  2014-11-07   \n",
       "41131  I have lots of software I use for illustration...  2014-11-07   \n",
       "45450  Eight long years after its last real update of...  2014-09-09   \n",
       "\n",
       "      sentiment            tags  length  \n",
       "41090  Positive          intuit   17514  \n",
       "41131  Positive          intuit   17898  \n",
       "45450  Negative  intuit|quicken   20439  "
      ]
     },
     "execution_count": 55,
     "metadata": {},
     "output_type": "execute_result"
    }
   ],
   "source": [
    "target[target.length > 10000 ]  \n",
    "# Business Insight: 3 TurboTax reviewers from 2 reviewers wrote over 10k words ... probably very negative"
   ]
  },
  {
   "cell_type": "code",
   "execution_count": 56,
   "metadata": {},
   "outputs": [
    {
     "data": {
      "text/plain": [
       "<matplotlib.axes._subplots.AxesSubplot at 0x2a04504c630>"
      ]
     },
     "execution_count": 56,
     "metadata": {},
     "output_type": "execute_result"
    },
    {
     "data": {
      "image/png": "[encoded data removed]",
      "text/plain": [
       "<matplotlib.figure.Figure at 0x2a04503bf28>"
      ]
     },
     "metadata": {},
     "output_type": "display_data"
    }
   ],
   "source": [
    "# Rating distribution\n",
    "#target['star_rating'].hist(figsize=(15,10),bins=24)\n",
    "target['star_rating'].hist(bins=5)"
   ]
  },
  {
   "cell_type": "code",
   "execution_count": 57,
   "metadata": {},
   "outputs": [
    {
     "data": {
      "text/plain": [
       "<matplotlib.axes._subplots.AxesSubplot at 0x2a04504f6a0>"
      ]
     },
     "execution_count": 57,
     "metadata": {},
     "output_type": "execute_result"
    },
    {
     "data": {
      "image/png": "[encoded data removed]",
      "text/plain": [
       "<matplotlib.figure.Figure at 0x2a0450910f0>"
      ]
     },
     "metadata": {},
     "output_type": "display_data"
    }
   ],
   "source": [
    "# Sentiment distribution\n",
    "target['sentiment'].hist(bins=3)"
   ]
  },
  {
   "cell_type": "code",
   "execution_count": 59,
   "metadata": {},
   "outputs": [
    {
     "data": {
      "text/plain": [
       "<matplotlib.axes._subplots.AxesSubplot at 0x2a04523fe10>"
      ]
     },
     "execution_count": 59,
     "metadata": {},
     "output_type": "execute_result"
    },
    {
     "data": {
      "image/png": "[encoded data removed]",
      "text/plain": [
       "<matplotlib.figure.Figure at 0x2a045200390>"
      ]
     },
     "metadata": {},
     "output_type": "display_data"
    }
   ],
   "source": [
    "# Review body length distribution\n",
    "target['length'].hist(figsize=(15,10),bins=2000)"
   ]
  },
  {
   "cell_type": "code",
   "execution_count": 60,
   "metadata": {},
   "outputs": [
    {
     "data": {
      "text/plain": [
       "<matplotlib.axes._subplots.AxesSubplot at 0x2a04828cdd8>"
      ]
     },
     "execution_count": 60,
     "metadata": {},
     "output_type": "execute_result"
    },
    {
     "data": {
      "image/png": "[encoded data removed]",
      "text/plain": [
       "<matplotlib.figure.Figure at 0x2a046aa6518>"
      ]
     },
     "metadata": {},
     "output_type": "display_data"
    }
   ],
   "source": [
    "target['star_rating'].plot(kind=\"box\")"
   ]
  },
  {
   "cell_type": "code",
   "execution_count": 61,
   "metadata": {},
   "outputs": [
    {
     "data": {
      "text/plain": [
       "<matplotlib.axes._subplots.AxesSubplot at 0x2a04e4504e0>"
      ]
     },
     "execution_count": 61,
     "metadata": {},
     "output_type": "execute_result"
    },
    {
     "data": {
      "image/png": "[encoded data removed]",
      "text/plain": [
       "<matplotlib.figure.Figure at 0x2a04f30e588>"
      ]
     },
     "metadata": {},
     "output_type": "display_data"
    }
   ],
   "source": [
    "target['length'].plot(kind=\"box\")"
   ]
  },
  {
   "cell_type": "code",
   "execution_count": 62,
   "metadata": {},
   "outputs": [
    {
     "data": {
      "image/png": "[encoded data removed]",
      "text/plain": [
       "<matplotlib.figure.Figure at 0x2a04fb26c88>"
      ]
     },
     "metadata": {},
     "output_type": "display_data"
    }
   ],
   "source": [
    "#sp=plt.scatter(target['star_rating'],target['sentiment'])\n",
    "plt.figure(figsize=(20,5))\n",
    "sp=plt.scatter(target['length'],target['star_rating'])"
   ]
  },
  {
   "cell_type": "code",
   "execution_count": 49,
   "metadata": {},
   "outputs": [
    {
     "data": {
      "text/plain": [
       "[<matplotlib.lines.Line2D at 0x2a045013908>]"
      ]
     },
     "execution_count": 49,
     "metadata": {},
     "output_type": "execute_result"
    },
    {
     "data": {
      "image/png": "[encoded data removed]",
      "text/plain": [
       "<matplotlib.figure.Figure at 0x2a044fa6588>"
      ]
     },
     "metadata": {},
     "output_type": "display_data"
    }
   ],
   "source": [
    "from io import StringIO\n",
    "from matplotlib.backends.backend_agg import FigureCanvasAgg as FigureCanvas\n",
    "fig = plt.figure()\n",
    "\n",
    "axis = fig.add_subplot(1, 1, 1)\n",
    "\n",
    "xs = range(100)\n",
    "ys = [random.randint(1, 50) for x in xs]\n",
    "\n",
    "axis.plot(xs, ys)\n",
    "\n",
    "#canvas = FigureCanvas(fig)\n",
    "#output = StringIO()\n",
    "#canvas.print_png(output)\n",
    "\n"
   ]
  },
  {
   "cell_type": "code",
   "execution_count": 44,
   "metadata": {},
   "outputs": [
    {
     "data": {
      "text/plain": [
       "<matplotlib.collections.PathCollection at 0x2a044eef668>"
      ]
     },
     "execution_count": 44,
     "metadata": {},
     "output_type": "execute_result"
    },
    {
     "data": {
      "image/png": "[encoded data removed]",
      "text/plain": [
       "<matplotlib.figure.Figure at 0x2a0443d7668>"
      ]
     },
     "metadata": {},
     "output_type": "display_data"
    }
   ],
   "source": [
    "x = [1, 2, 3, 4, 5]\n",
    "y = [1, 4, 9, 16, 25]\n",
    "fig = plt.figure()\n",
    "\n",
    "axis = fig.add_subplot(111)\n",
    "axis.scatter(x, y)\n",
    "\n",
    "#plt.scatter(x, y)\n",
    "#plt.show()"
   ]
  }
 ],
 "metadata": {
  "kernelspec": {
   "display_name": "Python 3",
   "language": "python",
   "name": "python3"
  },
  "language_info": {
   "codemirror_mode": {
    "name": "ipython",
    "version": 3
   },
   "file_extension": ".py",
   "mimetype": "text/x-python",
   "name": "python",
   "nbconvert_exporter": "python",
   "pygments_lexer": "ipython3",
   "version": "3.6.4"
  }
 },
 "nbformat": 4,
 "nbformat_minor": 2
}
