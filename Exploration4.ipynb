{
 "cells": [
  {
   "cell_type": "markdown",
   "metadata": {},
   "source": [
    "## Exploration 4"
   ]
  },
  {
   "cell_type": "markdown",
   "metadata": {},
   "source": [
    "### Goals of this exploration\n",
    "* Based on user specified criteria of brands and/or product names, filter the rows and display stats of the filtered rows"
   ]
  },
  {
   "cell_type": "code",
   "execution_count": 10,
   "metadata": {},
   "outputs": [],
   "source": [
    "# This is to prepare environment and import libraries\n",
    "%matplotlib inline\n",
    "import numpy as np\n",
    "import pandas as pd\n",
    "from pylab import *\n",
    "import matplotlib\n",
    "import matplotlib.pyplot as plt\n",
    "import os\n",
    "import nltk\n",
    "from nltk.tokenize import sent_tokenize, word_tokenize\n",
    "from nltk.corpus import stopwords\n",
    "from nltk.tokenize import PunktSentenceTokenizer\n",
    "import random\n",
    "import pickle"
   ]
  },
  {
   "cell_type": "code",
   "execution_count": 11,
   "metadata": {},
   "outputs": [],
   "source": [
    "# Load saved tagged reviews, prepared in \"Exploration 3\"\n",
    "tagged_review_file = open('taggedDigitSoftwareReviews', \"rb\")\n",
    "tagged_reviews = pickle.load(tagged_review_file)\n",
    "tagged_review_file.close()"
   ]
  },
  {
   "cell_type": "code",
   "execution_count": 12,
   "metadata": {},
   "outputs": [
    {
     "data": {
      "text/html": [
       "<div>\n",
       "<style scoped>\n",
       "    .dataframe tbody tr th:only-of-type {\n",
       "        vertical-align: middle;\n",
       "    }\n",
       "\n",
       "    .dataframe tbody tr th {\n",
       "        vertical-align: top;\n",
       "    }\n",
       "\n",
       "    .dataframe thead th {\n",
       "        text-align: right;\n",
       "    }\n",
       "</style>\n",
       "<table border=\"1\" class=\"dataframe\">\n",
       "  <thead>\n",
       "    <tr style=\"text-align: right;\">\n",
       "      <th></th>\n",
       "      <th>product_title</th>\n",
       "      <th>tags</th>\n",
       "      <th>review_date</th>\n",
       "    </tr>\n",
       "  </thead>\n",
       "  <tbody>\n",
       "    <tr>\n",
       "      <th>count</th>\n",
       "      <td>101836</td>\n",
       "      <td>101836</td>\n",
       "      <td>101831</td>\n",
       "    </tr>\n",
       "    <tr>\n",
       "      <th>unique</th>\n",
       "      <td>2639</td>\n",
       "      <td>150</td>\n",
       "      <td>2198</td>\n",
       "    </tr>\n",
       "    <tr>\n",
       "      <th>top</th>\n",
       "      <td>Avast Free Antivirus 2015 [Download]</td>\n",
       "      <td>turbotax</td>\n",
       "      <td>2015-03-04</td>\n",
       "    </tr>\n",
       "    <tr>\n",
       "      <th>freq</th>\n",
       "      <td>9462</td>\n",
       "      <td>17736</td>\n",
       "      <td>445</td>\n",
       "    </tr>\n",
       "  </tbody>\n",
       "</table>\n",
       "</div>"
      ],
      "text/plain": [
       "                               product_title      tags review_date\n",
       "count                                 101836    101836      101831\n",
       "unique                                  2639       150        2198\n",
       "top     Avast Free Antivirus 2015 [Download]  turbotax  2015-03-04\n",
       "freq                                    9462     17736         445"
      ]
     },
     "execution_count": 12,
     "metadata": {},
     "output_type": "execute_result"
    }
   ],
   "source": [
    "tagged_reviews[['product_title','tags','review_date']].describe()"
   ]
  },
  {
   "cell_type": "code",
   "execution_count": 13,
   "metadata": {},
   "outputs": [],
   "source": [
    "user_key_words = \"Turbotax\"\n",
    "#user_key_words = \"microsoft\"\n",
    "user_key_words = user_key_words.lower()"
   ]
  },
  {
   "cell_type": "code",
   "execution_count": 14,
   "metadata": {},
   "outputs": [],
   "source": [
    "#tagged_reviews[['product_title','tags']]\n",
    "#tagged_reviews[tagged_reviews.review_headline == \"Five Stars\"]\n",
    "target = tagged_reviews[tagged_reviews.tags.str.match(user_key_words)]"
   ]
  },
  {
   "cell_type": "code",
   "execution_count": 15,
   "metadata": {},
   "outputs": [
    {
     "data": {
      "text/plain": [
       "count    17736.000000\n",
       "mean         3.465099\n",
       "std          1.660031\n",
       "min          1.000000\n",
       "25%          2.000000\n",
       "50%          4.000000\n",
       "75%          5.000000\n",
       "max          5.000000\n",
       "Name: star_rating, dtype: float64"
      ]
     },
     "execution_count": 15,
     "metadata": {},
     "output_type": "execute_result"
    }
   ],
   "source": [
    "target.star_rating.describe()"
   ]
  },
  {
   "cell_type": "code",
   "execution_count": 17,
   "metadata": {},
   "outputs": [
    {
     "data": {
      "text/html": [
       "<div>\n",
       "<style scoped>\n",
       "    .dataframe tbody tr th:only-of-type {\n",
       "        vertical-align: middle;\n",
       "    }\n",
       "\n",
       "    .dataframe tbody tr th {\n",
       "        vertical-align: top;\n",
       "    }\n",
       "\n",
       "    .dataframe thead th {\n",
       "        text-align: right;\n",
       "    }\n",
       "</style>\n",
       "<table border=\"1\" class=\"dataframe\">\n",
       "  <thead>\n",
       "    <tr style=\"text-align: right;\">\n",
       "      <th></th>\n",
       "      <th>customer_id</th>\n",
       "      <th>star_rating</th>\n",
       "      <th>length</th>\n",
       "    </tr>\n",
       "  </thead>\n",
       "  <tbody>\n",
       "    <tr>\n",
       "      <th>count</th>\n",
       "      <td>1.773600e+04</td>\n",
       "      <td>17736.000000</td>\n",
       "      <td>17736.000000</td>\n",
       "    </tr>\n",
       "    <tr>\n",
       "      <th>mean</th>\n",
       "      <td>3.093876e+07</td>\n",
       "      <td>3.465099</td>\n",
       "      <td>333.825214</td>\n",
       "    </tr>\n",
       "    <tr>\n",
       "      <th>std</th>\n",
       "      <td>1.510124e+07</td>\n",
       "      <td>1.660031</td>\n",
       "      <td>447.579117</td>\n",
       "    </tr>\n",
       "    <tr>\n",
       "      <th>min</th>\n",
       "      <td>2.736400e+04</td>\n",
       "      <td>1.000000</td>\n",
       "      <td>1.000000</td>\n",
       "    </tr>\n",
       "    <tr>\n",
       "      <th>25%</th>\n",
       "      <td>1.685557e+07</td>\n",
       "      <td>2.000000</td>\n",
       "      <td>106.000000</td>\n",
       "    </tr>\n",
       "    <tr>\n",
       "      <th>50%</th>\n",
       "      <td>3.133553e+07</td>\n",
       "      <td>4.000000</td>\n",
       "      <td>195.000000</td>\n",
       "    </tr>\n",
       "    <tr>\n",
       "      <th>75%</th>\n",
       "      <td>4.507329e+07</td>\n",
       "      <td>5.000000</td>\n",
       "      <td>407.000000</td>\n",
       "    </tr>\n",
       "    <tr>\n",
       "      <th>max</th>\n",
       "      <td>5.309568e+07</td>\n",
       "      <td>5.000000</td>\n",
       "      <td>14716.000000</td>\n",
       "    </tr>\n",
       "  </tbody>\n",
       "</table>\n",
       "</div>"
      ],
      "text/plain": [
       "        customer_id   star_rating        length\n",
       "count  1.773600e+04  17736.000000  17736.000000\n",
       "mean   3.093876e+07      3.465099    333.825214\n",
       "std    1.510124e+07      1.660031    447.579117\n",
       "min    2.736400e+04      1.000000      1.000000\n",
       "25%    1.685557e+07      2.000000    106.000000\n",
       "50%    3.133553e+07      4.000000    195.000000\n",
       "75%    4.507329e+07      5.000000    407.000000\n",
       "max    5.309568e+07      5.000000  14716.000000"
      ]
     },
     "execution_count": 17,
     "metadata": {},
     "output_type": "execute_result"
    }
   ],
   "source": [
    "target.describe()"
   ]
  },
  {
   "cell_type": "code",
   "execution_count": 23,
   "metadata": {},
   "outputs": [
    {
     "data": {
      "text/html": [
       "<div>\n",
       "<style scoped>\n",
       "    .dataframe tbody tr th:only-of-type {\n",
       "        vertical-align: middle;\n",
       "    }\n",
       "\n",
       "    .dataframe tbody tr th {\n",
       "        vertical-align: top;\n",
       "    }\n",
       "\n",
       "    .dataframe thead th {\n",
       "        text-align: right;\n",
       "    }\n",
       "</style>\n",
       "<table border=\"1\" class=\"dataframe\">\n",
       "  <thead>\n",
       "    <tr style=\"text-align: right;\">\n",
       "      <th></th>\n",
       "      <th>customer_id</th>\n",
       "      <th>review_id</th>\n",
       "      <th>product_id</th>\n",
       "      <th>product_title</th>\n",
       "      <th>product_category</th>\n",
       "      <th>star_rating</th>\n",
       "      <th>review_headline</th>\n",
       "      <th>review_body</th>\n",
       "      <th>review_date</th>\n",
       "      <th>sentiment</th>\n",
       "      <th>tags</th>\n",
       "      <th>length</th>\n",
       "    </tr>\n",
       "  </thead>\n",
       "  <tbody>\n",
       "    <tr>\n",
       "      <th>34516</th>\n",
       "      <td>48845901</td>\n",
       "      <td>R1IS9PO06XNWT2</td>\n",
       "      <td>B00NG7JVSQ</td>\n",
       "      <td>TurboTax Deluxe Fed + Efile + State</td>\n",
       "      <td>Digital_Software</td>\n",
       "      <td>1</td>\n",
       "      <td>It's Really a Shame + HR Block Software Experi...</td>\n",
       "      <td>Successful businesses always under-promise and...</td>\n",
       "      <td>2015-01-05</td>\n",
       "      <td>Negative</td>\n",
       "      <td>turbotax</td>\n",
       "      <td>14716</td>\n",
       "    </tr>\n",
       "    <tr>\n",
       "      <th>101657</th>\n",
       "      <td>31629547</td>\n",
       "      <td>R3QGW01BFKA74K</td>\n",
       "      <td>B001M4JFS6</td>\n",
       "      <td>TurboTax Deluxe Federal + eFile 2008</td>\n",
       "      <td>Digital_Software</td>\n",
       "      <td>1</td>\n",
       "      <td>Read this Review by a Tax Attorney!</td>\n",
       "      <td>[4/12/09 UPDATE:  Adding my review of the TT D...</td>\n",
       "      <td>2009-04-13</td>\n",
       "      <td>Negative</td>\n",
       "      <td>turbotax</td>\n",
       "      <td>10451</td>\n",
       "    </tr>\n",
       "    <tr>\n",
       "      <th>101736</th>\n",
       "      <td>31629547</td>\n",
       "      <td>R1NFDGZJP5PWFT</td>\n",
       "      <td>B001M4JFOA</td>\n",
       "      <td>TurboTax Deluxe Federal + State + eFile 2008</td>\n",
       "      <td>Digital_Software</td>\n",
       "      <td>1</td>\n",
       "      <td>Read this Review by a Tax Attorney!</td>\n",
       "      <td>[3/12/09 UPDATE: FOR ANYONE WHO DEDUCTS MORTGA...</td>\n",
       "      <td>2009-02-18</td>\n",
       "      <td>Negative</td>\n",
       "      <td>turbotax</td>\n",
       "      <td>10267</td>\n",
       "    </tr>\n",
       "  </tbody>\n",
       "</table>\n",
       "</div>"
      ],
      "text/plain": [
       "        customer_id       review_id  product_id  \\\n",
       "34516      48845901  R1IS9PO06XNWT2  B00NG7JVSQ   \n",
       "101657     31629547  R3QGW01BFKA74K  B001M4JFS6   \n",
       "101736     31629547  R1NFDGZJP5PWFT  B001M4JFOA   \n",
       "\n",
       "                                       product_title  product_category  \\\n",
       "34516            TurboTax Deluxe Fed + Efile + State  Digital_Software   \n",
       "101657          TurboTax Deluxe Federal + eFile 2008  Digital_Software   \n",
       "101736  TurboTax Deluxe Federal + State + eFile 2008  Digital_Software   \n",
       "\n",
       "        star_rating                                    review_headline  \\\n",
       "34516             1  It's Really a Shame + HR Block Software Experi...   \n",
       "101657            1                Read this Review by a Tax Attorney!   \n",
       "101736            1                Read this Review by a Tax Attorney!   \n",
       "\n",
       "                                              review_body review_date  \\\n",
       "34516   Successful businesses always under-promise and...  2015-01-05   \n",
       "101657  [4/12/09 UPDATE:  Adding my review of the TT D...  2009-04-13   \n",
       "101736  [3/12/09 UPDATE: FOR ANYONE WHO DEDUCTS MORTGA...  2009-02-18   \n",
       "\n",
       "       sentiment      tags  length  \n",
       "34516   Negative  turbotax   14716  \n",
       "101657  Negative  turbotax   10451  \n",
       "101736  Negative  turbotax   10267  "
      ]
     },
     "execution_count": 23,
     "metadata": {},
     "output_type": "execute_result"
    }
   ],
   "source": [
    "target[target.length > 10000 ]  \n",
    "# Business Insight: 3 TurboTax reviewers from 2 reviewers wrote over 10k words ... probably very negative"
   ]
  },
  {
   "cell_type": "code",
   "execution_count": 36,
   "metadata": {},
   "outputs": [
    {
     "data": {
      "text/plain": [
       "<matplotlib.axes._subplots.AxesSubplot at 0x1bcc2d808d0>"
      ]
     },
     "execution_count": 36,
     "metadata": {},
     "output_type": "execute_result"
    },
    {
     "data": {
      "image/png": "[encoded data removed]",
      "text/plain": [
       "<matplotlib.figure.Figure at 0x1bcc2dd9710>"
      ]
     },
     "metadata": {},
     "output_type": "display_data"
    }
   ],
   "source": [
    "# Rating distribution\n",
    "#target['star_rating'].hist(figsize=(15,10),bins=24)\n",
    "target['star_rating'].hist(bins=5)"
   ]
  },
  {
   "cell_type": "code",
   "execution_count": 41,
   "metadata": {},
   "outputs": [
    {
     "data": {
      "text/plain": [
       "<matplotlib.axes._subplots.AxesSubplot at 0x1bcc2f2a898>"
      ]
     },
     "execution_count": 41,
     "metadata": {},
     "output_type": "execute_result"
    },
    {
     "data": {
      "image/png": "[encoded data removed]",
      "text/plain": [
       "<matplotlib.figure.Figure at 0x1bcc2f411d0>"
      ]
     },
     "metadata": {},
     "output_type": "display_data"
    }
   ],
   "source": [
    "# Sentiment distribution\n",
    "target['sentiment'].hist(bins=3)"
   ]
  },
  {
   "cell_type": "code",
   "execution_count": 47,
   "metadata": {},
   "outputs": [
    {
     "data": {
      "text/plain": [
       "<matplotlib.axes._subplots.AxesSubplot at 0x1bcc7bb96d8>"
      ]
     },
     "execution_count": 47,
     "metadata": {},
     "output_type": "execute_result"
    },
    {
     "data": {
      "image/png": "[encoded data removed]",
      "text/plain": [
       "<matplotlib.figure.Figure at 0x1bcce6f97b8>"
      ]
     },
     "metadata": {},
     "output_type": "display_data"
    }
   ],
   "source": [
    "# Review body length distribution\n",
    "target['length'].hist(figsize=(15,10),bins=2000)"
   ]
  },
  {
   "cell_type": "code",
   "execution_count": 49,
   "metadata": {},
   "outputs": [
    {
     "data": {
      "text/plain": [
       "<matplotlib.axes._subplots.AxesSubplot at 0x1bccf1b6400>"
      ]
     },
     "execution_count": 49,
     "metadata": {},
     "output_type": "execute_result"
    },
    {
     "data": {
      "image/png": "[encoded data removed]",
      "text/plain": [
       "<matplotlib.figure.Figure at 0x1bccf361080>"
      ]
     },
     "metadata": {},
     "output_type": "display_data"
    }
   ],
   "source": [
    "target['star_rating'].plot(kind=\"box\")"
   ]
  },
  {
   "cell_type": "code",
   "execution_count": 51,
   "metadata": {},
   "outputs": [
    {
     "data": {
      "text/plain": [
       "<matplotlib.axes._subplots.AxesSubplot at 0x1bcd048c828>"
      ]
     },
     "execution_count": 51,
     "metadata": {},
     "output_type": "execute_result"
    },
    {
     "data": {
      "image/png": "[encoded data removed]",
      "text/plain": [
       "<matplotlib.figure.Figure at 0x1bcd044bf28>"
      ]
     },
     "metadata": {},
     "output_type": "display_data"
    }
   ],
   "source": [
    "target['length'].plot(kind=\"box\")"
   ]
  },
  {
   "cell_type": "code",
   "execution_count": 56,
   "metadata": {},
   "outputs": [
    {
     "data": {
      "image/png": "[encoded data removed]",
      "text/plain": [
       "<matplotlib.figure.Figure at 0x1bccf9af940>"
      ]
     },
     "metadata": {},
     "output_type": "display_data"
    }
   ],
   "source": [
    "#sp=plt.scatter(target['star_rating'],target['sentiment'])\n",
    "plt.figure(figsize=(20,5))\n",
    "sp=plt.scatter(target['length'],target['star_rating'])"
   ]
  }
 ],
 "metadata": {
  "kernelspec": {
   "display_name": "Python 3",
   "language": "python",
   "name": "python3"
  },
  "language_info": {
   "codemirror_mode": {
    "name": "ipython",
    "version": 3
   },
   "file_extension": ".py",
   "mimetype": "text/x-python",
   "name": "python",
   "nbconvert_exporter": "python",
   "pygments_lexer": "ipython3",
   "version": "3.6.4"
  }
 },
 "nbformat": 4,
 "nbformat_minor": 2
}
