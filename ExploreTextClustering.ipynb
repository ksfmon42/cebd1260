{
 "cells": [
  {
   "cell_type": "markdown",
   "metadata": {},
   "source": [
    "## Text Clustering (Exploration 5)"
   ]
  },
  {
   "cell_type": "markdown",
   "metadata": {},
   "source": [
    "### Goals of this exploration\n",
    "* Text clustering using NLTK and SciKit-Learn"
   ]
  },
  {
   "cell_type": "code",
   "execution_count": 87,
   "metadata": {},
   "outputs": [],
   "source": [
    "# This is to prepare environment and import libraries\n",
    "%matplotlib inline\n",
    "import numpy as np\n",
    "import pandas as pd\n",
    "from pylab import *\n",
    "import matplotlib\n",
    "import matplotlib.pyplot as plt\n",
    "import os\n",
    "import nltk\n",
    "from nltk.tokenize import sent_tokenize, word_tokenize\n",
    "from nltk.corpus import stopwords\n",
    "from nltk.tokenize import PunktSentenceTokenizer\n",
    "import random\n",
    "import pickle\n",
    "from wordcloud import WordCloud, STOPWORDS\n",
    "from matplotlib.dates import date2num"
   ]
  },
  {
   "cell_type": "code",
   "execution_count": 88,
   "metadata": {},
   "outputs": [],
   "source": [
    "import string\n",
    "import collections\n",
    "from sklearn.feature_extraction.text import TfidfVectorizer\n",
    "from nltk import word_tokenize\n",
    "from nltk.stem import PorterStemmer\n",
    "from nltk.corpus import stopwords\n",
    "from sklearn.cluster import KMeans\n",
    "from sklearn.feature_extraction.text import TfidfVectorizer\n",
    "from pprint import pprint"
   ]
  },
  {
   "cell_type": "code",
   "execution_count": 94,
   "metadata": {},
   "outputs": [],
   "source": [
    "# Load saved tagged reviews, prepared in \"Exploration 3\" if available\n",
    "try:\n",
    "    tagged_review_file = open('taggedDigitSoftwareReviews', \"rb\")\n",
    "    reviews = pickle.load(tagged_review_file)\n",
    "    tagged_review_file.close()\n",
    "except:\n",
    "    reviews=pd.read_csv('data/raw/amazon_reviews_us_Digital_Software_v1_00.tsv',delimiter='\\t', encoding='latin-1')"
   ]
  },
  {
   "cell_type": "code",
   "execution_count": 101,
   "metadata": {},
   "outputs": [],
   "source": [
    "articles=[]\n",
    "for r in reviews.review_body[:100]:  # Prototyping with small sample size of 100\n",
    "    articles.append(r)"
   ]
  },
  {
   "cell_type": "code",
   "execution_count": 102,
   "metadata": {},
   "outputs": [],
   "source": [
    "# Source: https://nlpforhackers.io/recipe-text-clustering/\n",
    "#\n",
    "# Since it's using km_model.fit instead of km_model.fit_predict , the context is for supervised learning \n",
    "# Can be applied to case such as https://www.youtube.com/watch?v=RZYjsw6P4nI\n",
    "#\n",
    "def process_text(text, stem=True):\n",
    "    \"\"\" Tokenize text and stem words removing punctuation \"\"\"\n",
    "    text = text.translate(string.punctuation)\n",
    "    tokens = word_tokenize(text)\n",
    " \n",
    "    if stem:\n",
    "        stemmer = PorterStemmer()\n",
    "        tokens = [stemmer.stem(t) for t in tokens]\n",
    " \n",
    "    return tokens\n",
    " \n",
    "    \n",
    "def cluster_texts(texts, clusters=3):\n",
    "    \"\"\" Transform texts to Tf-Idf coordinates and cluster texts using K-Means \"\"\"\n",
    "    vectorizer = TfidfVectorizer(tokenizer=process_text,\n",
    "                                 stop_words=stopwords.words('english'),\n",
    "                                 max_df=0.5,\n",
    "                                 min_df=0.1,\n",
    "                                 lowercase=True)\n",
    " \n",
    "    tfidf_model = vectorizer.fit_transform(texts)\n",
    "    km_model = KMeans(n_clusters=clusters)\n",
    "    km_model.fit(tfidf_model)\n",
    "    #km_model.fit_predict(tfidf_model)\n",
    "    \n",
    "    clustering = collections.defaultdict(list)\n",
    "    for idx, label in enumerate(km_model.labels_):\n",
    "        clustering[label].append(idx)\n",
    " \n",
    "    return clustering\n",
    " \n",
    " \n"
   ]
  },
  {
   "cell_type": "code",
   "execution_count": 103,
   "metadata": {},
   "outputs": [],
   "source": [
    "clusters = cluster_texts(articles, 7)"
   ]
  },
  {
   "cell_type": "code",
   "execution_count": 99,
   "metadata": {},
   "outputs": [
    {
     "name": "stdout",
     "output_type": "stream",
     "text": [
      "defaultdict(<class 'list'>, {6: [0, 32, 41, 43, 56, 74, 82, 83], 3: [1, 6, 22, 29, 44, 45, 52, 76, 77, 97, 98], 2: [2, 8, 11, 16, 20, 25, 26, 33, 35, 38, 40, 46, 47, 49, 53, 54, 57, 60, 62, 64, 67, 72, 78, 79, 80, 84, 86, 87, 88, 92, 94, 96, 99], 5: [3, 5, 10, 15, 17, 21, 50, 55, 63, 89], 0: [4, 7, 12, 18, 27, 30, 31, 34, 36, 37, 39, 42, 48, 58, 65, 68, 70, 75, 85, 91, 93], 4: [9, 14, 19, 24, 28, 51, 61, 71, 73, 90], 1: [13, 23, 59, 66, 69, 81, 95]})\n"
     ]
    }
   ],
   "source": [
    "print(clusters)"
   ]
  }
 ],
 "metadata": {
  "kernelspec": {
   "display_name": "Python 3",
   "language": "python",
   "name": "python3"
  },
  "language_info": {
   "codemirror_mode": {
    "name": "ipython",
    "version": 3
   },
   "file_extension": ".py",
   "mimetype": "text/x-python",
   "name": "python",
   "nbconvert_exporter": "python",
   "pygments_lexer": "ipython3",
   "version": "3.6.4"
  }
 },
 "nbformat": 4,
 "nbformat_minor": 2
}
